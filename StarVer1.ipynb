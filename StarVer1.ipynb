{
 "cells": [
  {
   "cell_type": "code",
   "execution_count": 1,
   "metadata": {},
   "outputs": [],
   "source": [
    "import pandas as pd\n",
    "from sklearn.ensemble import RandomForestClassifier"
   ]
  },
  {
   "cell_type": "code",
   "execution_count": 2,
   "metadata": {},
   "outputs": [],
   "source": [
    "train = pd.read_csv('train.csv', index_col=0)\n",
    "test = pd.read_csv('test.csv', index_col=0)\n",
    "sample_submission = pd.read_csv('sample_submission.csv', index_col=0)"
   ]
  },
  {
   "cell_type": "code",
   "execution_count": 3,
   "metadata": {},
   "outputs": [],
   "source": [
    "column_number = {}\n",
    "for i, column in enumerate(sample_submission.columns):\n",
    "    column_number[column] = i\n",
    "    \n",
    "def to_number(x, dic):\n",
    "    return dic[x]\n",
    "\n",
    "train['type_num'] = train['type'].apply(lambda x: to_number(x, column_number))"
   ]
  },
  {
   "cell_type": "code",
   "execution_count": 4,
   "metadata": {},
   "outputs": [],
   "source": [
    "train_x = train.drop(columns=['type', 'type_num'], axis=1)\n",
    "train_y = train['type_num']\n",
    "test_x = test"
   ]
  },
  {
   "cell_type": "code",
   "execution_count": null,
   "metadata": {},
   "outputs": [
    {
     "name": "stderr",
     "output_type": "stream",
     "text": [
      "Using TensorFlow backend.\n"
     ]
    },
    {
     "name": "stdout",
     "output_type": "stream",
     "text": [
      "First\n"
     ]
    }
   ],
   "source": [
    "from sklearn.svm import SVC\n",
    "from sklearn.linear_model import LogisticRegression\n",
    "from xgboost import XGBClassifier\n",
    "from sklearn.ensemble import GradientBoostingClassifier\n",
    "from sklearn.ensemble import VotingClassifier\n",
    "import lightgbm as lgb\n",
    "from sklearn.ensemble import RandomForestClassifier\n",
    "from imblearn.over_sampling import SMOTE\n",
    "sm = SMOTE(random_state=42)\n",
    "\n",
    "train_x, train_y = sm.fit_resample(train_x, train_y)\n",
    "\n",
    "rfc = RandomForestClassifier(n_estimators=100,\n",
    "                              max_features=4, \n",
    "                              n_jobs=-1, oob_score=True)\n",
    "\n",
    "gbc = GradientBoostingClassifier(n_estimators=200, learning_rate=0.1)\n",
    "lgb = lgb.LGBMClassifier(learning_rate= 1, n_estimators = 100)\n",
    "svc = SVC(gamma='auto', probability=True)\n",
    "lrb = LogisticRegression(random_state=0)\n",
    "xgb = XGBClassifier()\n",
    "\n",
    "print(\"First\")\n",
    "eclf1 = VotingClassifier(estimators=[('xgb', xgb), ('gbc', gbc), ('lgb', lgb)], voting='soft')\n",
    "eclf1.fit(train_x, train_y)\n",
    "\n",
    "print(\"Second\")\n",
    "eclf2 = VotingClassifier(estimators=[('xgb', xgb), ('svc', svc), ('lgb', lgb)], voting='soft')\n",
    "eclf2.fit(train_x, train_y)\n",
    "\n",
    "print(\"Third\")\n",
    "eclf3 = VotingClassifier(estimators=[('xgb', xgb), ('gbc', gbc), ('svc', svc)], voting='soft')\n",
    "eclf3.fit(train_x, train_y)\n",
    "\n",
    "print(\"Forth\")\n",
    "eclf4 = VotingClassifier(estimators=[('lgb', lgb), ('svc', svc), ('gbc', gbc)], voting='soft')\n",
    "eclf4.fit(train_x, train_y)\n",
    "\n",
    "# forest = RandomForestClassifier(n_estimators=100, n_jobs=-1)\n",
    "# forest.fit(train_x, train_y)"
   ]
  },
  {
   "cell_type": "code",
   "execution_count": null,
   "metadata": {},
   "outputs": [],
   "source": [
    "y_pred1 = eclf1.predict_proba(X_test)\n",
    "y_pred2 = eclf2.predict_proba(X_test)\n",
    "y_pred3 = eclf3.predict_proba(X_test)\n",
    "y_pred4 = eclf4.predict_proba(X_test)\n",
    "\n",
    "y_pred = (y_pred1*y_pred2*y_pred3*y_pred4)**(1/4)"
   ]
  },
  {
   "cell_type": "code",
   "execution_count": null,
   "metadata": {},
   "outputs": [],
   "source": [
    "# y_pred = forest.predict_proba(test_x)"
   ]
  },
  {
   "cell_type": "code",
   "execution_count": null,
   "metadata": {},
   "outputs": [],
   "source": [
    "submission = pd.DataFrame(data=y_pred, columns=sample_submission.columns, index=sample_submission.index)\n",
    "submission.to_csv('submission.csv', index=True)"
   ]
  },
  {
   "cell_type": "code",
   "execution_count": null,
   "metadata": {},
   "outputs": [],
   "source": [
    "train_y.value_counts()"
   ]
  },
  {
   "cell_type": "code",
   "execution_count": null,
   "metadata": {},
   "outputs": [],
   "source": []
  }
 ],
 "metadata": {
  "kernelspec": {
   "display_name": "Python [conda env:env_master]",
   "language": "python",
   "name": "conda-env-env_master-py"
  },
  "language_info": {
   "codemirror_mode": {
    "name": "ipython",
    "version": 3
   },
   "file_extension": ".py",
   "mimetype": "text/x-python",
   "name": "python",
   "nbconvert_exporter": "python",
   "pygments_lexer": "ipython3",
   "version": "3.5.6"
  }
 },
 "nbformat": 4,
 "nbformat_minor": 2
}
