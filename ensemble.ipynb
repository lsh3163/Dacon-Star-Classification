{
 "cells": [
  {
   "cell_type": "code",
   "execution_count": 1,
   "metadata": {},
   "outputs": [],
   "source": [
    "import numpy as np\n",
    "import pandas as pd\n",
    "import os\n",
    "import pickle"
   ]
  },
  {
   "cell_type": "code",
   "execution_count": 2,
   "metadata": {},
   "outputs": [],
   "source": [
    "sub1 = pd.read_csv(\"submission1.csv\")"
   ]
  },
  {
   "cell_type": "code",
   "execution_count": 3,
   "metadata": {},
   "outputs": [],
   "source": [
    "sub2 = pd.read_csv(\"submission2.csv\")"
   ]
  },
  {
   "cell_type": "code",
   "execution_count": 4,
   "metadata": {},
   "outputs": [],
   "source": [
    "sub3 = pd.read_csv(\"submission3.csv\")"
   ]
  },
  {
   "cell_type": "code",
   "execution_count": 5,
   "metadata": {},
   "outputs": [],
   "source": [
    "sub4 = pd.read_csv(\"submission4.csv\")"
   ]
  },
  {
   "cell_type": "code",
   "execution_count": 6,
   "metadata": {},
   "outputs": [],
   "source": [
    "sub5 = pd.read_csv(\"submission5.csv\")"
   ]
  },
  {
   "cell_type": "code",
   "execution_count": 7,
   "metadata": {},
   "outputs": [],
   "source": [
    "sub6 = pd.read_csv(\"submission6.csv\")"
   ]
  },
  {
   "cell_type": "code",
   "execution_count": 8,
   "metadata": {},
   "outputs": [],
   "source": [
    "sub7 = pd.read_csv(\"submission7.csv\")"
   ]
  },
  {
   "cell_type": "code",
   "execution_count": 9,
   "metadata": {},
   "outputs": [],
   "source": [
    "sub8 = pd.read_csv(\"submission8.csv\")"
   ]
  },
  {
   "cell_type": "code",
   "execution_count": 10,
   "metadata": {},
   "outputs": [],
   "source": [
    "sub9 = pd.read_csv(\"submission9.csv\")"
   ]
  },
  {
   "cell_type": "code",
   "execution_count": 11,
   "metadata": {},
   "outputs": [],
   "source": [
    "sub10 = pd.read_csv(\"submission10.csv\")"
   ]
  },
  {
   "cell_type": "code",
   "execution_count": 12,
   "metadata": {},
   "outputs": [],
   "source": [
    "sub11 = pd.read_csv(\"submission11.csv\")"
   ]
  },
  {
   "cell_type": "code",
   "execution_count": 13,
   "metadata": {},
   "outputs": [],
   "source": [
    "sub12 = pd.read_csv(\"submission12.csv\")"
   ]
  },
  {
   "cell_type": "code",
   "execution_count": 14,
   "metadata": {},
   "outputs": [],
   "source": [
    "iid = sub1['id']"
   ]
  },
  {
   "cell_type": "code",
   "execution_count": 15,
   "metadata": {},
   "outputs": [],
   "source": [
    "sub = (sub1.drop('id', axis=1) + sub2.drop('id', axis=1) + sub3.drop('id', axis=1) + sub4.drop('id', axis=1) + sub5.drop('id', axis=1) + sub6.drop('id', axis=1) + sub7.drop('id', axis=1) + sub8.drop('id', axis=1) + sub9.drop('id', axis=1) + sub10.drop('id', axis=1) + sub11.drop('id', axis=1) + sub12.drop('id', axis=1)) * 1/12"
   ]
  },
  {
   "cell_type": "code",
   "execution_count": 16,
   "metadata": {},
   "outputs": [
    {
     "data": {
      "text/html": [
       "<div>\n",
       "<style scoped>\n",
       "    .dataframe tbody tr th:only-of-type {\n",
       "        vertical-align: middle;\n",
       "    }\n",
       "\n",
       "    .dataframe tbody tr th {\n",
       "        vertical-align: top;\n",
       "    }\n",
       "\n",
       "    .dataframe thead th {\n",
       "        text-align: right;\n",
       "    }\n",
       "</style>\n",
       "<table border=\"1\" class=\"dataframe\">\n",
       "  <thead>\n",
       "    <tr style=\"text-align: right;\">\n",
       "      <th></th>\n",
       "      <th>STAR_WHITE_DWARF</th>\n",
       "      <th>STAR_CATY_VAR</th>\n",
       "      <th>STAR_BROWN_DWARF</th>\n",
       "      <th>SERENDIPITY_RED</th>\n",
       "      <th>REDDEN_STD</th>\n",
       "      <th>STAR_BHB</th>\n",
       "      <th>GALAXY</th>\n",
       "      <th>SERENDIPITY_DISTANT</th>\n",
       "      <th>QSO</th>\n",
       "      <th>SKY</th>\n",
       "      <th>STAR_RED_DWARF</th>\n",
       "      <th>ROSAT_D</th>\n",
       "      <th>STAR_PN</th>\n",
       "      <th>SERENDIPITY_FIRST</th>\n",
       "      <th>STAR_CARBON</th>\n",
       "      <th>SPECTROPHOTO_STD</th>\n",
       "      <th>STAR_SUB_DWARF</th>\n",
       "      <th>SERENDIPITY_MANUAL</th>\n",
       "      <th>SERENDIPITY_BLUE</th>\n",
       "    </tr>\n",
       "  </thead>\n",
       "  <tbody>\n",
       "    <tr>\n",
       "      <th>0</th>\n",
       "      <td>0.000055</td>\n",
       "      <td>0.000067</td>\n",
       "      <td>0.006755</td>\n",
       "      <td>0.160160</td>\n",
       "      <td>0.000068</td>\n",
       "      <td>0.000056</td>\n",
       "      <td>0.000335</td>\n",
       "      <td>0.000167</td>\n",
       "      <td>0.001698</td>\n",
       "      <td>0.000044</td>\n",
       "      <td>0.826658</td>\n",
       "      <td>0.002145</td>\n",
       "      <td>0.000046</td>\n",
       "      <td>0.000120</td>\n",
       "      <td>0.000079</td>\n",
       "      <td>0.000057</td>\n",
       "      <td>0.000054</td>\n",
       "      <td>0.001344</td>\n",
       "      <td>0.000092</td>\n",
       "    </tr>\n",
       "    <tr>\n",
       "      <th>1</th>\n",
       "      <td>0.000159</td>\n",
       "      <td>0.000105</td>\n",
       "      <td>0.000088</td>\n",
       "      <td>0.000172</td>\n",
       "      <td>0.000143</td>\n",
       "      <td>0.000142</td>\n",
       "      <td>0.006079</td>\n",
       "      <td>0.000627</td>\n",
       "      <td>0.680469</td>\n",
       "      <td>0.000080</td>\n",
       "      <td>0.000178</td>\n",
       "      <td>0.122738</td>\n",
       "      <td>0.000086</td>\n",
       "      <td>0.187684</td>\n",
       "      <td>0.000265</td>\n",
       "      <td>0.000136</td>\n",
       "      <td>0.000084</td>\n",
       "      <td>0.000237</td>\n",
       "      <td>0.000530</td>\n",
       "    </tr>\n",
       "    <tr>\n",
       "      <th>2</th>\n",
       "      <td>0.000065</td>\n",
       "      <td>0.000083</td>\n",
       "      <td>0.000045</td>\n",
       "      <td>0.000126</td>\n",
       "      <td>0.000025</td>\n",
       "      <td>0.000014</td>\n",
       "      <td>0.995291</td>\n",
       "      <td>0.000019</td>\n",
       "      <td>0.000649</td>\n",
       "      <td>0.000010</td>\n",
       "      <td>0.000357</td>\n",
       "      <td>0.002514</td>\n",
       "      <td>0.000010</td>\n",
       "      <td>0.000296</td>\n",
       "      <td>0.000417</td>\n",
       "      <td>0.000013</td>\n",
       "      <td>0.000030</td>\n",
       "      <td>0.000019</td>\n",
       "      <td>0.000017</td>\n",
       "    </tr>\n",
       "    <tr>\n",
       "      <th>3</th>\n",
       "      <td>0.000101</td>\n",
       "      <td>0.000238</td>\n",
       "      <td>0.000050</td>\n",
       "      <td>0.000054</td>\n",
       "      <td>0.000074</td>\n",
       "      <td>0.000097</td>\n",
       "      <td>0.000192</td>\n",
       "      <td>0.004067</td>\n",
       "      <td>0.143473</td>\n",
       "      <td>0.000049</td>\n",
       "      <td>0.000076</td>\n",
       "      <td>0.024973</td>\n",
       "      <td>0.000084</td>\n",
       "      <td>0.026868</td>\n",
       "      <td>0.000055</td>\n",
       "      <td>0.000076</td>\n",
       "      <td>0.000051</td>\n",
       "      <td>0.000154</td>\n",
       "      <td>0.799267</td>\n",
       "    </tr>\n",
       "    <tr>\n",
       "      <th>4</th>\n",
       "      <td>0.000022</td>\n",
       "      <td>0.000023</td>\n",
       "      <td>0.004280</td>\n",
       "      <td>0.008445</td>\n",
       "      <td>0.000023</td>\n",
       "      <td>0.000020</td>\n",
       "      <td>0.000176</td>\n",
       "      <td>0.000052</td>\n",
       "      <td>0.000793</td>\n",
       "      <td>0.000019</td>\n",
       "      <td>0.981744</td>\n",
       "      <td>0.003906</td>\n",
       "      <td>0.000019</td>\n",
       "      <td>0.000096</td>\n",
       "      <td>0.000024</td>\n",
       "      <td>0.000020</td>\n",
       "      <td>0.000023</td>\n",
       "      <td>0.000286</td>\n",
       "      <td>0.000031</td>\n",
       "    </tr>\n",
       "  </tbody>\n",
       "</table>\n",
       "</div>"
      ],
      "text/plain": [
       "   STAR_WHITE_DWARF  STAR_CATY_VAR  STAR_BROWN_DWARF  SERENDIPITY_RED  \\\n",
       "0          0.000055       0.000067          0.006755         0.160160   \n",
       "1          0.000159       0.000105          0.000088         0.000172   \n",
       "2          0.000065       0.000083          0.000045         0.000126   \n",
       "3          0.000101       0.000238          0.000050         0.000054   \n",
       "4          0.000022       0.000023          0.004280         0.008445   \n",
       "\n",
       "   REDDEN_STD  STAR_BHB    GALAXY  SERENDIPITY_DISTANT       QSO       SKY  \\\n",
       "0    0.000068  0.000056  0.000335             0.000167  0.001698  0.000044   \n",
       "1    0.000143  0.000142  0.006079             0.000627  0.680469  0.000080   \n",
       "2    0.000025  0.000014  0.995291             0.000019  0.000649  0.000010   \n",
       "3    0.000074  0.000097  0.000192             0.004067  0.143473  0.000049   \n",
       "4    0.000023  0.000020  0.000176             0.000052  0.000793  0.000019   \n",
       "\n",
       "   STAR_RED_DWARF   ROSAT_D   STAR_PN  SERENDIPITY_FIRST  STAR_CARBON  \\\n",
       "0        0.826658  0.002145  0.000046           0.000120     0.000079   \n",
       "1        0.000178  0.122738  0.000086           0.187684     0.000265   \n",
       "2        0.000357  0.002514  0.000010           0.000296     0.000417   \n",
       "3        0.000076  0.024973  0.000084           0.026868     0.000055   \n",
       "4        0.981744  0.003906  0.000019           0.000096     0.000024   \n",
       "\n",
       "   SPECTROPHOTO_STD  STAR_SUB_DWARF  SERENDIPITY_MANUAL  SERENDIPITY_BLUE  \n",
       "0          0.000057        0.000054            0.001344          0.000092  \n",
       "1          0.000136        0.000084            0.000237          0.000530  \n",
       "2          0.000013        0.000030            0.000019          0.000017  \n",
       "3          0.000076        0.000051            0.000154          0.799267  \n",
       "4          0.000020        0.000023            0.000286          0.000031  "
      ]
     },
     "execution_count": 16,
     "metadata": {},
     "output_type": "execute_result"
    }
   ],
   "source": [
    "sub.head()"
   ]
  },
  {
   "cell_type": "code",
   "execution_count": 17,
   "metadata": {},
   "outputs": [],
   "source": [
    "sub.index = iid"
   ]
  },
  {
   "cell_type": "code",
   "execution_count": 18,
   "metadata": {},
   "outputs": [],
   "source": [
    "submission = sub"
   ]
  },
  {
   "cell_type": "code",
   "execution_count": 19,
   "metadata": {},
   "outputs": [],
   "source": [
    "submission.to_csv('submission_ensemble.csv', index_label = 'id')"
   ]
  },
  {
   "cell_type": "code",
   "execution_count": null,
   "metadata": {},
   "outputs": [],
   "source": []
  }
 ],
 "metadata": {
  "kernelspec": {
   "display_name": "Python [default]",
   "language": "python",
   "name": "python3"
  },
  "language_info": {
   "codemirror_mode": {
    "name": "ipython",
    "version": 3
   },
   "file_extension": ".py",
   "mimetype": "text/x-python",
   "name": "python",
   "nbconvert_exporter": "python",
   "pygments_lexer": "ipython3",
   "version": "3.5.6"
  }
 },
 "nbformat": 4,
 "nbformat_minor": 4
}
